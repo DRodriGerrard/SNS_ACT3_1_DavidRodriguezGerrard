{
  "nbformat": 4,
  "nbformat_minor": 0,
  "metadata": {
    "colab": {
      "provenance": []
    },
    "kernelspec": {
      "name": "python3",
      "display_name": "Python 3"
    },
    "language_info": {
      "name": "python"
    }
  },
  "cells": [
    {
      "cell_type": "markdown",
      "source": [
        "<h3>David Rodríguez Gerrard</h3>"
      ],
      "metadata": {
        "id": "zO-2nXHcT2Rc"
      }
    },
    {
      "cell_type": "markdown",
      "source": [
        "<h1>Actividad 3.1 - Métricas de error para los problemas de regresión</h1>\n"
      ],
      "metadata": {
        "id": "CZ39lAf86p8l"
      }
    },
    {
      "cell_type": "code",
      "source": [
        "# Librerías\n",
        "\n",
        "from sklearn.metrics import mean_absolute_error\n",
        "from sklearn.metrics import mean_squared_error\n",
        "from sklearn.metrics import mean_absolute_percentage_error"
      ],
      "metadata": {
        "id": "AKhHU8Yc6zRW"
      },
      "execution_count": null,
      "outputs": []
    },
    {
      "cell_type": "markdown",
      "source": [
        "<h3>Error absoluto medio (MAE)</h3>"
      ],
      "metadata": {
        "id": "JnixBTJbrjNe"
      }
    },
    {
      "cell_type": "code",
      "execution_count": null,
      "metadata": {
        "id": "Z5RuCFFB6b0O",
        "colab": {
          "base_uri": "https://localhost:8080/"
        },
        "outputId": "6191920c-fbca-4364-b96f-a0caaec6c9db"
      },
      "outputs": [
        {
          "output_type": "stream",
          "name": "stdout",
          "text": [
            "MAE:  2.58\n",
            "MAE 0:  0.0\n",
            "MAE 0.25:  0.25\n"
          ]
        }
      ],
      "source": [
        "# Ejer 1: Crear dos vectores/arrays de valores ciertos y valores previstos,\n",
        "#y calcular el mae.\n",
        "# ¿Qué valores deberían de tener el array pred para que el error fuese 0?\n",
        "#¿y para que error fuese de 0.25?\n",
        "\n",
        "y_mae_true = [3.5, 1, 9, 8, 2]\n",
        "y_mae_pred = [1, -3, 2.7, 8, 1.9]\n",
        "y_mae_pred_0 = [3.5, 1, 9, 8, 2] # para error 0\n",
        "y_mae_pred_025 = [3.51, 0.91, 9, 7.85, 1] # para error 0.25\n",
        "\n",
        "print (\"MAE: \",mean_absolute_error(y_mae_true, y_mae_pred))\n",
        "print (\"MAE 0: \",mean_absolute_error(y_mae_true, y_mae_pred_0))\n",
        "print (\"MAE 0.25: \",mean_absolute_error(y_mae_true, y_mae_pred_025))"
      ]
    },
    {
      "cell_type": "code",
      "source": [
        "# Ejer 2: Crear dos matrices/arrays de valores ciertos y valores previstos,\n",
        "#y calcular el mae.\n",
        "# ¿Qué valores deberían de tener el array pred para que el error fuese 0?\n",
        "#¿y para que error fuese de 0.33?\n",
        "\n",
        "my_mae_true = [[0.5, 1], [-1, 1], [7, -6]]\n",
        "my_mae_pred = [[-2, 1], [-1, 1.35], [6.4, 0]]\n",
        "my_mae_pred_0 = [[0.5, 1], [-1, 1], [7, -6]]\n",
        "my_mae_pred_033 = [[0.5, 0], [-1, 1.98], [7, -6]]\n",
        "\n",
        "print (\"MAE : \",mean_absolute_error(my_mae_true, my_mae_pred))\n",
        "print (\"MAE 0: \",mean_absolute_error(my_mae_true, my_mae_pred_0))\n",
        "print (\"MAE 0.33: \",mean_absolute_error(my_mae_true, my_mae_pred_033))"
      ],
      "metadata": {
        "colab": {
          "base_uri": "https://localhost:8080/"
        },
        "id": "EGUOLXuTB8Rg",
        "outputId": "19335df7-0a06-4465-b56d-4a45d30b9e10"
      },
      "execution_count": null,
      "outputs": [
        {
          "output_type": "stream",
          "name": "stdout",
          "text": [
            "MAE :  1.575\n",
            "MAE 0:  0.0\n",
            "MAE 0.33:  0.33\n"
          ]
        }
      ]
    },
    {
      "cell_type": "markdown",
      "source": [
        "<h3>Error cuadrático medio (MSE)</h3>"
      ],
      "metadata": {
        "id": "67WyX1_RrnzL"
      }
    },
    {
      "cell_type": "code",
      "source": [
        "# Ejer 3: Crear dos vectores/arrays de valores ciertos y valores previstos,\n",
        "#y calcular el mse.\n",
        "\n",
        "# ¿Qué valores deberían de tener el array pred para que el error fuese 0?\n",
        "#¿y para que error fuese de 0.25?\n",
        "\n",
        "# Nota: Es muy interesante comparar los resultados al aplicaer mae y mse sobre\n",
        "#el mismo conjunto de datos. Podrás obervar que mse \"penaliza más\"\n",
        "#(es decir, el número que se obtiene es mayor) con las diferencias entre\n",
        "#los valores originales y los predichos que mae\n",
        "\n",
        "y_mse_true = [3.5, 1, 9, 8, 2]\n",
        "y_mse_pred = [1, -3, 2.7, 8, 1.9]\n",
        "y_mse_pred_0 = [3.5, 1, 9, 8, 2] # para error 0\n",
        "y_mse_pred_025 = [3.97, 0.91, 9, 7.85, 1] # para error 0.25\n",
        "\n",
        "print (\"MSE : \",mean_squared_error(y_mse_true, y_mse_pred))\n",
        "print (\"MSE 0: \",mean_squared_error(y_mse_true, y_mse_pred_0))\n",
        "print (\"MSE 0.25: \",mean_squared_error(y_mse_true, y_mse_pred_025))"
      ],
      "metadata": {
        "colab": {
          "base_uri": "https://localhost:8080/"
        },
        "id": "LZQiNRqAO9QQ",
        "outputId": "5eb439cd-498d-4672-c535-751b79efd1e7"
      },
      "execution_count": null,
      "outputs": [
        {
          "output_type": "stream",
          "name": "stdout",
          "text": [
            "MSE :  12.389999999999999\n",
            "MSE 0:  0.0\n",
            "MSE 0.25:  0.2503000000000001\n"
          ]
        }
      ]
    },
    {
      "cell_type": "code",
      "source": [
        "# Ejer 4: Crear dos matrices/arrays de valores ciertos y valores previstos,\n",
        "#y calcular el mae.\n",
        "# ¿Qué valores deberían de tener el array pred para que el error fuese 0?\n",
        "#¿y para que error fuese de 0.33?\n",
        "\n",
        "my_mse_true = [[0.5, 1], [-1, 1], [7, -6]]\n",
        "my_mse_pred = [[-2, 1], [-1, 1.35], [6.4, 0]]\n",
        "my_mse_pred_0 = [[0.5, 1], [-1, 1], [7, -6]]\n",
        "my_mse_pred_033 = [[0.5, 0], [-1, 1.98], [7, -6]]\n",
        "\n",
        "print (\"MSE : \",mean_squared_error(my_mse_true, my_mse_pred))\n",
        "print (\"MSE 0: \",mean_squared_error(my_mse_true, my_mse_pred_0))\n",
        "print (\"MSE 0.33: \",mean_squared_error(my_mse_true, my_mse_pred_033))"
      ],
      "metadata": {
        "colab": {
          "base_uri": "https://localhost:8080/"
        },
        "id": "k7w-j9Y5grov",
        "outputId": "7b920f82-1446-4fa2-b76b-bb9d34bb347e"
      },
      "execution_count": null,
      "outputs": [
        {
          "output_type": "stream",
          "name": "stdout",
          "text": [
            "MSE :  7.122083333333333\n",
            "MSE 0:  0.0\n",
            "MSE 0.33:  0.3267333333333333\n"
          ]
        }
      ]
    },
    {
      "cell_type": "markdown",
      "source": [
        "<h3>Error de porcentaje absoluto medio (MAPE)</h3>"
      ],
      "metadata": {
        "id": "SDS6IO5OrusH"
      }
    },
    {
      "cell_type": "code",
      "source": [
        "# Ejer 5: Crear dos vectores/arrays de valores ciertos y valores previstos, y calcular el mape.\n",
        "# ¿Qué valores deberían de tener el array pred para que el error fuese 0?\n",
        "\n",
        "y_mape_true = [3.5, 1, 9, 8, 2]\n",
        "y_mape_pred = [1, -3, 2.7, 8, 1.9]\n",
        "y_mape_pred_0 = [3.5, 1, 9, 8, 2] # para error 0\n",
        "\n",
        "print (\"MAPE: \",mean_absolute_percentage_error(y_mape_true, y_mape_pred))\n",
        "print (\"MAPE 0: \",mean_absolute_percentage_error(y_mape_true, y_mape_pred_0))"
      ],
      "metadata": {
        "colab": {
          "base_uri": "https://localhost:8080/"
        },
        "id": "uCPcu0-zqssx",
        "outputId": "e728a9bb-dcdf-42c9-fbe3-9eaf3973fdab"
      },
      "execution_count": null,
      "outputs": [
        {
          "output_type": "stream",
          "name": "stdout",
          "text": [
            "MAPE:  1.092857142857143\n",
            "MAPE 0:  0.0\n"
          ]
        }
      ]
    },
    {
      "cell_type": "code",
      "source": [
        "# Ejer 6: Crear dos matrices/arrays de valores ciertos y valores previstos, y calcular el MAPE.\n",
        "# ¿Qué valores deberían de tener el array pred para que el error fuese 0?\n",
        "\n",
        "my_mape_true = [[0.5, 1], [-1, 1], [7, -6]]\n",
        "my_mape_pred = [[-2, 1], [-1, 1.35], [6.4, 0]]\n",
        "my_mape_pred_0 = [[0.5, 1], [-1, 1], [7, -6]]\n",
        "\n",
        "print (\"MAPE : \",mean_absolute_percentage_error(my_mape_true, my_mape_pred))\n",
        "print (\"MAPE 0: \",mean_absolute_percentage_error(my_mape_true, my_mape_pred_0))"
      ],
      "metadata": {
        "colab": {
          "base_uri": "https://localhost:8080/"
        },
        "id": "eeIWy3p6pGf0",
        "outputId": "7112c4a1-b89d-4f7e-d7dd-8c19c76b8294"
      },
      "execution_count": null,
      "outputs": [
        {
          "output_type": "stream",
          "name": "stdout",
          "text": [
            "MAPE :  1.0726190476190476\n",
            "MAPE 0:  0.0\n"
          ]
        }
      ]
    }
  ]
}